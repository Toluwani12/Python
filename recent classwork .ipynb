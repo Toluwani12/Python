{
 "cells": [
  {
   "cell_type": "markdown",
   "id": "947c49df",
   "metadata": {},
   "source": [
    "# Classwork"
   ]
  },
  {
   "cell_type": "code",
   "execution_count": 8,
   "id": "d9adb837",
   "metadata": {},
   "outputs": [
    {
     "name": "stdout",
     "output_type": "stream",
     "text": [
      "enter your nametolu\n",
      "Hello World tolu\n"
     ]
    }
   ],
   "source": [
    "def main():\n",
    "    name1 = get_name()\n",
    "    print(\"Hello World\", name1)\n",
    "  \n",
    "def get_name():\n",
    "    name = input (\"enter your name\")\n",
    "    return name\n",
    "    \n",
    "main()"
   ]
  },
  {
   "cell_type": "code",
   "execution_count": 2,
   "id": "c6065c88",
   "metadata": {},
   "outputs": [
    {
     "name": "stdout",
     "output_type": "stream",
     "text": [
      "texas has 5000  birds\n",
      "california has 8000  birds\n"
     ]
    }
   ],
   "source": [
    "def main(): #this is used for defining a function\n",
    "    texas()\n",
    "    california()\n",
    "    \n",
    "def texas():\n",
    "    birds = 5000\n",
    "    print(\"texas has\", birds, \" birds\")\n",
    "\n",
    "def california():\n",
    "    birds = 8000\n",
    "    print(\"california has\", birds, \" birds\")\n",
    "\n",
    "main()"
   ]
  },
  {
   "cell_type": "code",
   "execution_count": 4,
   "id": "9dad6d6c",
   "metadata": {},
   "outputs": [
    {
     "name": "stdout",
     "output_type": "stream",
     "text": [
      "Enter radius5\n",
      "78.55\n"
     ]
    }
   ],
   "source": [
    "def get_area(radius): #radius here is parameter\n",
    "    return 3.142 * radius * radius\n",
    "\n",
    "def main():\n",
    "    rad = int(input (\"Enter radius\"))\n",
    "    area = get_area (rad) #rad here is argument\n",
    "    print(area)\n",
    "    \n",
    "main()"
   ]
  },
  {
   "cell_type": "code",
   "execution_count": 7,
   "id": "81df16d0",
   "metadata": {},
   "outputs": [
    {
     "name": "stdout",
     "output_type": "stream",
     "text": [
      "Enter the gross pay: 5\n",
      "Enter the amount of bonuses: 7\n",
      "Contribution for gross pay: $0.25\n",
      "Contribution for bonuses: $0.35\n"
     ]
    }
   ],
   "source": [
    "# the contribution rate.\n",
    "CONTRIBUTION_RATE = 0.05\n",
    "\n",
    "def main():\n",
    "    gross_pay = float(input('Enter the gross pay: '))\n",
    "    bonus = float(input('Enter the amount of bonuses: '))\n",
    "    show_pay_contrib(gross_pay)\n",
    "    show_bonus_contrib(bonus)\n",
    "\n",
    "def show_pay_contrib(gross):\n",
    "    contrib = gross * CONTRIBUTION_RATE\n",
    "    print('Contribution for gross pay: $', \n",
    "        format(contrib, ',.2f'), \n",
    "        sep='')\n",
    "\n",
    "\n",
    "def show_bonus_contrib(bonus):\n",
    "    contrib = bonus * CONTRIBUTION_RATE\n",
    "    print('Contribution for bonuses: $', \n",
    "        format(contrib, ',.2f'), \n",
    "        sep='')\n",
    "\n",
    "main()\n"
   ]
  },
  {
   "cell_type": "markdown",
   "id": "5638b13c",
   "metadata": {},
   "source": [
    "Keyword arguments"
   ]
  },
  {
   "cell_type": "code",
   "execution_count": 13,
   "id": "38165b40",
   "metadata": {},
   "outputs": [
    {
     "name": "stdout",
     "output_type": "stream",
     "text": [
      "Enter length4\n",
      "enter breadth6\n",
      "24\n"
     ]
    }
   ],
   "source": [
    "def rect_area(length, breadth):\n",
    "    return length * breadth\n",
    "\n",
    "def main():\n",
    "    l = int (input(\"Enter length\"))\n",
    "    b = int(input(\"enter breadth\"))\n",
    "    area = rect_area(breadth = b, length = l)  #using keyword argument\n",
    "    print(area)\n",
    "\n",
    "main()"
   ]
  },
  {
   "cell_type": "code",
   "execution_count": 16,
   "id": "4fb58cea",
   "metadata": {},
   "outputs": [
    {
     "name": "stdout",
     "output_type": "stream",
     "text": [
      "Enter your first name: wani\n",
      "Enter your last name: tolu\n",
      "Your name reversed is\n",
      "tolu wani\n"
     ]
    }
   ],
   "source": [
    "def main():\n",
    "    first_name = input('Enter your first name: ')\n",
    "    last_name = input('Enter your last name: ')\n",
    "    print('Your name reversed is')\n",
    "    reverse_name(last=last_name, first=first_name)\n",
    "\n",
    "def reverse_name(first, last):\n",
    "    print(last, first)\n",
    "\n",
    "main()"
   ]
  },
  {
   "cell_type": "code",
   "execution_count": null,
   "id": "afeb9118",
   "metadata": {},
   "outputs": [],
   "source": []
  }
 ],
 "metadata": {
  "kernelspec": {
   "display_name": "Python 3",
   "language": "python",
   "name": "python3"
  },
  "language_info": {
   "codemirror_mode": {
    "name": "ipython",
    "version": 3
   },
   "file_extension": ".py",
   "mimetype": "text/x-python",
   "name": "python",
   "nbconvert_exporter": "python",
   "pygments_lexer": "ipython3",
   "version": "3.8.8"
  }
 },
 "nbformat": 4,
 "nbformat_minor": 5
}
